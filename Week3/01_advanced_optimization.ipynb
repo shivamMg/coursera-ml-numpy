{
 "cells": [
  {
   "cell_type": "code",
   "execution_count": 1,
   "id": "150b04d5",
   "metadata": {},
   "outputs": [],
   "source": [
    "import numpy as np"
   ]
  },
  {
   "cell_type": "code",
   "execution_count": 47,
   "id": "3eba000f",
   "metadata": {},
   "outputs": [],
   "source": [
    "def cost_function(theta):\n",
    "    j_val = (theta[0] - 5)**2 + (theta[1] - 5)**2\n",
    "    return j_val\n",
    "\n",
    "\n",
    "def gradient(theta):\n",
    "    grad = [0, 0]\n",
    "    grad[0] = 2*(theta[0] - 5)\n",
    "    grad[1] = 2*(theta[1] - 5)\n",
    "    return grad"
   ]
  },
  {
   "cell_type": "code",
   "execution_count": 3,
   "id": "9b70f3b3",
   "metadata": {},
   "outputs": [
    {
     "name": "stdout",
     "output_type": "stream",
     "text": [
      "Requirement already satisfied: scipy in /home/shivam/.local/lib/python3.8/site-packages (1.8.1)\n",
      "Requirement already satisfied: numpy<1.25.0,>=1.17.3 in /home/shivam/.local/lib/python3.8/site-packages (from scipy) (1.22.4)\n",
      "Note: you may need to restart the kernel to use updated packages.\n"
     ]
    }
   ],
   "source": [
    "%pip install --user scipy"
   ]
  },
  {
   "cell_type": "code",
   "execution_count": 10,
   "id": "7c14a6da",
   "metadata": {},
   "outputs": [],
   "source": [
    "from scipy.optimize import fmin_bfgs"
   ]
  },
  {
   "cell_type": "code",
   "execution_count": 48,
   "id": "393a5f3e",
   "metadata": {},
   "outputs": [
    {
     "name": "stdout",
     "output_type": "stream",
     "text": [
      "Optimization terminated successfully.\n",
      "         Current function value: 0.000000\n",
      "         Iterations: 3\n",
      "         Function evaluations: 4\n",
      "         Gradient evaluations: 4\n"
     ]
    }
   ],
   "source": [
    "initial_theta = [0, 0]\n",
    "xopt, fopt, iter, funcalls, warnflag, allvecs, _ = fmin_bfgs(f=cost_function, x0=initial_theta, fprime=gradient, maxiter=100, full_output=True)"
   ]
  },
  {
   "cell_type": "code",
   "execution_count": 49,
   "id": "36b8d0f0",
   "metadata": {},
   "outputs": [
    {
     "data": {
      "text/plain": [
       "(array([5., 5.]), 0.0)"
      ]
     },
     "execution_count": 49,
     "metadata": {},
     "output_type": "execute_result"
    }
   ],
   "source": [
    "xopt, fopt"
   ]
  },
  {
   "cell_type": "code",
   "execution_count": null,
   "id": "b807c69a",
   "metadata": {},
   "outputs": [],
   "source": []
  }
 ],
 "metadata": {
  "kernelspec": {
   "display_name": "Python 3 (ipykernel)",
   "language": "python",
   "name": "python3"
  },
  "language_info": {
   "codemirror_mode": {
    "name": "ipython",
    "version": 3
   },
   "file_extension": ".py",
   "mimetype": "text/x-python",
   "name": "python",
   "nbconvert_exporter": "python",
   "pygments_lexer": "ipython3",
   "version": "3.8.10"
  }
 },
 "nbformat": 4,
 "nbformat_minor": 5
}
