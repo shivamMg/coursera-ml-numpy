{
 "cells": [
  {
   "cell_type": "code",
   "execution_count": 1,
   "id": "4cf10353",
   "metadata": {},
   "outputs": [],
   "source": [
    "import numpy as np\n",
    "import seaborn as sns\n",
    "import matplotlib.pyplot as plt"
   ]
  },
  {
   "cell_type": "code",
   "execution_count": 2,
   "id": "9eb1f8d8",
   "metadata": {},
   "outputs": [],
   "source": [
    "data = np.genfromtxt('ex2data1.txt', delimiter=',')"
   ]
  },
  {
   "cell_type": "code",
   "execution_count": 3,
   "id": "fe094c53",
   "metadata": {},
   "outputs": [],
   "source": [
    "X = data[:,[0,1]]\n",
    "y = data[:,2]\n",
    "y = y[:,np.newaxis]"
   ]
  },
  {
   "cell_type": "code",
   "execution_count": 4,
   "id": "7d32516a",
   "metadata": {},
   "outputs": [],
   "source": [
    "# Part 1: Plotting"
   ]
  },
  {
   "cell_type": "code",
   "execution_count": 5,
   "id": "be7bb071",
   "metadata": {},
   "outputs": [
    {
     "data": {
      "image/png": "[encoded data removed]",
      "text/plain": [
       "<Figure size 432x288 with 1 Axes>"
      ]
     },
     "metadata": {
      "needs_background": "light"
     },
     "output_type": "display_data"
    }
   ],
   "source": [
    "y_enums = np.where(y == 1, 'Admitted', 'Not admitted')\n",
    "ax = sns.scatterplot(x=X[:,0], y=X[:,1], hue=y_enums[:,0])\n",
    "_ = ax.set(title='Scatter plot of training data', xlabel='Exam 1 score', ylabel='Exam 2 score')"
   ]
  },
  {
   "cell_type": "code",
   "execution_count": 6,
   "id": "4ea32e9e",
   "metadata": {},
   "outputs": [],
   "source": [
    "# Part 2: Compute Cost and Gradient"
   ]
  },
  {
   "cell_type": "code",
   "execution_count": 7,
   "id": "c383c961",
   "metadata": {},
   "outputs": [],
   "source": [
    "m, n = X.shape"
   ]
  },
  {
   "cell_type": "code",
   "execution_count": 8,
   "id": "2938f191",
   "metadata": {},
   "outputs": [
    {
     "data": {
      "text/plain": [
       "array([[ 1.        , 34.62365962, 78.02469282],\n",
       "       [ 1.        , 30.28671077, 43.89499752],\n",
       "       [ 1.        , 35.84740877, 72.90219803],\n",
       "       [ 1.        , 60.18259939, 86.3085521 ],\n",
       "       [ 1.        , 79.03273605, 75.34437644]])"
      ]
     },
     "execution_count": 8,
     "metadata": {},
     "output_type": "execute_result"
    }
   ],
   "source": [
    "X = np.hstack((np.ones((m, 1)), X))  # X with intercept term\n",
    "X[:5]"
   ]
  },
  {
   "cell_type": "code",
   "execution_count": 9,
   "id": "a0b62db4",
   "metadata": {},
   "outputs": [],
   "source": [
    "def sigmoid(z):\n",
    "    return 1 / (1 + np.exp(-z))"
   ]
  },
  {
   "cell_type": "code",
   "execution_count": 10,
   "id": "dac6f5cc",
   "metadata": {},
   "outputs": [],
   "source": [
    "def compute_cost(theta, X, y):\n",
    "    m = X.shape[0]\n",
    "    predictions = X.dot(theta)\n",
    "    g = sigmoid(predictions)\n",
    "    cost_term = np.dot(-y.T, np.log(g)) - np.dot((1-y).T, np.log(1-g))\n",
    "    return (1 / m) * np.sum(cost_term)"
   ]
  },
  {
   "cell_type": "code",
   "execution_count": 11,
   "id": "2fb9f15f",
   "metadata": {},
   "outputs": [],
   "source": [
    "def compute_gradient(theta, X, y):\n",
    "    theta = theta.reshape((theta.shape[0], 1))  # fmin_bfgs passes x0 (initial thetha) with (x,) shape\n",
    "    predictions = X.dot(theta)\n",
    "    g = sigmoid(predictions)\n",
    "    gradient = (1 / m) * X.T.dot(g - y)\n",
    "    n = X.shape[1]\n",
    "    return gradient.reshape((n,))  # fmin_bfgs expects (n,) shape"
   ]
  },
  {
   "cell_type": "code",
   "execution_count": 12,
   "id": "4422bd81",
   "metadata": {},
   "outputs": [
    {
     "data": {
      "text/plain": [
       "0.6931471805599453"
      ]
     },
     "execution_count": 12,
     "metadata": {},
     "output_type": "execute_result"
    }
   ],
   "source": [
    "initial_theta = np.zeros((n+1, 1))\n",
    "compute_cost(initial_theta, X, y)"
   ]
  },
  {
   "cell_type": "code",
   "execution_count": 13,
   "id": "b4cf924b",
   "metadata": {},
   "outputs": [
    {
     "data": {
      "text/plain": [
       "array([ -0.1       , -12.00921659, -11.26284221])"
      ]
     },
     "execution_count": 13,
     "metadata": {},
     "output_type": "execute_result"
    }
   ],
   "source": [
    "compute_gradient(initial_theta, X, y)"
   ]
  },
  {
   "cell_type": "code",
   "execution_count": 14,
   "id": "e2be3bc5",
   "metadata": {},
   "outputs": [
    {
     "data": {
      "text/plain": [
       "0.2183301938265977"
      ]
     },
     "execution_count": 14,
     "metadata": {},
     "output_type": "execute_result"
    }
   ],
   "source": [
    "test_theta = np.array([[-24], [0.2], [0.2]])\n",
    "compute_cost(test_theta, X, y)"
   ]
  },
  {
   "cell_type": "code",
   "execution_count": 15,
   "id": "e50b3483",
   "metadata": {},
   "outputs": [
    {
     "data": {
      "text/plain": [
       "array([0.04290299, 2.56623412, 2.64679737])"
      ]
     },
     "execution_count": 15,
     "metadata": {},
     "output_type": "execute_result"
    }
   ],
   "source": [
    "compute_gradient(test_theta, X, y)"
   ]
  },
  {
   "cell_type": "code",
   "execution_count": 16,
   "id": "f44ac80a",
   "metadata": {},
   "outputs": [],
   "source": [
    "# Part 3: Optimizing using fmin_bfgs"
   ]
  },
  {
   "cell_type": "code",
   "execution_count": 17,
   "id": "9da4420b",
   "metadata": {},
   "outputs": [
    {
     "name": "stdout",
     "output_type": "stream",
     "text": [
      "Optimization terminated successfully.\n",
      "         Current function value: 0.203498\n",
      "         Iterations: 23\n",
      "         Function evaluations: 31\n",
      "         Gradient evaluations: 31\n",
      "Cost: 0.20349770158944375\n",
      "Final theta: [-25.16133284   0.2062317    0.2014716 ]\n"
     ]
    },
    {
     "name": "stderr",
     "output_type": "stream",
     "text": [
      "/tmp/ipykernel_242/2552154057.py:5: RuntimeWarning: divide by zero encountered in log\n",
      "  cost_term = np.dot(-y.T, np.log(g)) - np.dot((1-y).T, np.log(1-g))\n"
     ]
    }
   ],
   "source": [
    "from scipy.optimize import fmin_bfgs\n",
    "\n",
    "\n",
    "final_theta, fopt, iter, funcalls, warnflag, allvecs, _ = \\\n",
    "    fmin_bfgs(f=compute_cost, x0=initial_theta, fprime=compute_gradient, args=(X, y), maxiter=100, full_output=True)\n",
    "print('Cost:', fopt)\n",
    "print('Final theta:', final_theta)"
   ]
  },
  {
   "cell_type": "code",
   "execution_count": 18,
   "id": "3583be4c",
   "metadata": {},
   "outputs": [],
   "source": [
    "def plot_decision_boundary(theta, X):\n",
    "    plot_x = np.array([min(X[:,1])-2, max(X[:,1])+2])\n",
    "    plot_y = (-1 / theta[2]) * (theta[1] * plot_x + theta[0])\n",
    "    y_enums = np.where(y == 1, 'Admitted', 'Not admitted')\n",
    "    ax = sns.scatterplot(x=X[:,1], y=X[:,2], hue=y_enums[:,0])\n",
    "    ax.set(title='Scatter plot of training data', xlabel='Exam 1 score', ylabel='Exam 2 score')\n",
    "    sns.lineplot(x=plot_x, y=plot_y, ax=ax)"
   ]
  },
  {
   "cell_type": "code",
   "execution_count": 19,
   "id": "1ee9ba7a",
   "metadata": {},
   "outputs": [
    {
     "data": {
      "image/png": "[encoded data removed]",
      "text/plain": [
       "<Figure size 432x288 with 1 Axes>"
      ]
     },
     "metadata": {
      "needs_background": "light"
     },
     "output_type": "display_data"
    }
   ],
   "source": [
    "plot_decision_boundary(final_theta, X)"
   ]
  },
  {
   "cell_type": "code",
   "execution_count": 20,
   "id": "4036f64e",
   "metadata": {},
   "outputs": [],
   "source": [
    "# Part 4: Predict and Accuracies"
   ]
  },
  {
   "cell_type": "code",
   "execution_count": 21,
   "id": "c6ea402a",
   "metadata": {},
   "outputs": [
    {
     "name": "stdout",
     "output_type": "stream",
     "text": [
      "For a student with scores 45 and 85, we predict an admissionprobability of: 0.7762907240588947\n"
     ]
    }
   ],
   "source": [
    "student_score = np.array([1, 45, 85])\n",
    "print('For a student with scores 45 and 85, we predict an admission'\n",
    "      'probability of:', sigmoid(student_score.dot(final_theta)))"
   ]
  },
  {
   "cell_type": "code",
   "execution_count": 22,
   "id": "d6f87bdc",
   "metadata": {},
   "outputs": [],
   "source": [
    "def predict(theta, X):\n",
    "    g = sigmoid(X.dot(theta))\n",
    "    return np.where(g >= 0.5, 1, 0)"
   ]
  },
  {
   "cell_type": "code",
   "execution_count": 23,
   "id": "ef5313ba",
   "metadata": {},
   "outputs": [
    {
     "name": "stdout",
     "output_type": "stream",
     "text": [
      "Train accuracy: 0.89\n"
     ]
    }
   ],
   "source": [
    "p = predict(final_theta, X)\n",
    "print('Train accuracy:', np.mean(p.reshape(p.shape[0], 1) == y))"
   ]
  },
  {
   "cell_type": "code",
   "execution_count": null,
   "id": "a95dfde2",
   "metadata": {},
   "outputs": [],
   "source": []
  }
 ],
 "metadata": {
  "kernelspec": {
   "display_name": "Python 3 (ipykernel)",
   "language": "python",
   "name": "python3"
  },
  "language_info": {
   "codemirror_mode": {
    "name": "ipython",
    "version": 3
   },
   "file_extension": ".py",
   "mimetype": "text/x-python",
   "name": "python",
   "nbconvert_exporter": "python",
   "pygments_lexer": "ipython3",
   "version": "3.8.10"
  }
 },
 "nbformat": 4,
 "nbformat_minor": 5
}
