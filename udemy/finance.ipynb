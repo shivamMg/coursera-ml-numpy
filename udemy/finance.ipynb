{
 "cells": [
  {
   "cell_type": "markdown",
   "id": "c0c7b09e",
   "metadata": {},
   "source": [
    "## Working with Finance data (Bank Stocks)\n",
    "\n",
    "- From [Python for Data Science and Machine Learning Bootcamp](https://www.udemy.com/course/python-for-data-science-and-machine-learning-bootcamp/)\n",
    "- Link to [all_banks](https://www.dropbox.com/scl/fi/7gip6uvds2b6xov0ekpg5/all_banks?rlkey=fmycmvdjey1nzceuap2i5rkdm&e=1&dl=0) pickle file"
   ]
  },
  {
   "cell_type": "code",
   "execution_count": 1,
   "id": "562fa5c0",
   "metadata": {},
   "outputs": [],
   "source": [
    "import pandas as pd"
   ]
  },
  {
   "cell_type": "code",
   "execution_count": null,
   "id": "36731e53",
   "metadata": {},
   "outputs": [],
   "source": [
    "all_banks_file = \"./CourseResources/Refactored_Py_DS_ML_Bootcamp-master/10-Data-Capstone-Projects/all_banks\""
   ]
  },
  {
   "cell_type": "code",
   "execution_count": 37,
   "id": "21acf1a8",
   "metadata": {},
   "outputs": [
    {
     "data": {
      "text/html": [
       "<div>\n",
       "<style scoped>\n",
       "    .dataframe tbody tr th:only-of-type {\n",
       "        vertical-align: middle;\n",
       "    }\n",
       "\n",
       "    .dataframe tbody tr th {\n",
       "        vertical-align: top;\n",
       "    }\n",
       "\n",
       "    .dataframe thead tr th {\n",
       "        text-align: left;\n",
       "    }\n",
       "\n",
       "    .dataframe thead tr:last-of-type th {\n",
       "        text-align: right;\n",
       "    }\n",
       "</style>\n",
       "<table border=\"1\" class=\"dataframe\">\n",
       "  <thead>\n",
       "    <tr>\n",
       "      <th>Bank Ticker</th>\n",
       "      <th colspan=\"5\" halign=\"left\">BAC</th>\n",
       "      <th colspan=\"5\" halign=\"left\">C</th>\n",
       "      <th>...</th>\n",
       "      <th colspan=\"5\" halign=\"left\">MS</th>\n",
       "      <th colspan=\"5\" halign=\"left\">WFC</th>\n",
       "    </tr>\n",
       "    <tr>\n",
       "      <th>Stock Info</th>\n",
       "      <th>Open</th>\n",
       "      <th>High</th>\n",
       "      <th>Low</th>\n",
       "      <th>Close</th>\n",
       "      <th>Volume</th>\n",
       "      <th>Open</th>\n",
       "      <th>High</th>\n",
       "      <th>Low</th>\n",
       "      <th>Close</th>\n",
       "      <th>Volume</th>\n",
       "      <th>...</th>\n",
       "      <th>Open</th>\n",
       "      <th>High</th>\n",
       "      <th>Low</th>\n",
       "      <th>Close</th>\n",
       "      <th>Volume</th>\n",
       "      <th>Open</th>\n",
       "      <th>High</th>\n",
       "      <th>Low</th>\n",
       "      <th>Close</th>\n",
       "      <th>Volume</th>\n",
       "    </tr>\n",
       "    <tr>\n",
       "      <th>Date</th>\n",
       "      <th></th>\n",
       "      <th></th>\n",
       "      <th></th>\n",
       "      <th></th>\n",
       "      <th></th>\n",
       "      <th></th>\n",
       "      <th></th>\n",
       "      <th></th>\n",
       "      <th></th>\n",
       "      <th></th>\n",
       "      <th></th>\n",
       "      <th></th>\n",
       "      <th></th>\n",
       "      <th></th>\n",
       "      <th></th>\n",
       "      <th></th>\n",
       "      <th></th>\n",
       "      <th></th>\n",
       "      <th></th>\n",
       "      <th></th>\n",
       "      <th></th>\n",
       "    </tr>\n",
       "  </thead>\n",
       "  <tbody>\n",
       "    <tr>\n",
       "      <th>2006-01-03</th>\n",
       "      <td>46.92</td>\n",
       "      <td>47.18</td>\n",
       "      <td>46.15</td>\n",
       "      <td>47.08</td>\n",
       "      <td>16296700</td>\n",
       "      <td>490.0</td>\n",
       "      <td>493.8</td>\n",
       "      <td>481.1</td>\n",
       "      <td>492.9</td>\n",
       "      <td>1537660</td>\n",
       "      <td>...</td>\n",
       "      <td>57.17</td>\n",
       "      <td>58.49</td>\n",
       "      <td>56.74</td>\n",
       "      <td>58.31</td>\n",
       "      <td>5377000</td>\n",
       "      <td>31.6</td>\n",
       "      <td>31.98</td>\n",
       "      <td>31.2</td>\n",
       "      <td>31.9</td>\n",
       "      <td>11016400</td>\n",
       "    </tr>\n",
       "  </tbody>\n",
       "</table>\n",
       "<p>1 rows × 30 columns</p>\n",
       "</div>"
      ],
      "text/plain": [
       "Bank Ticker    BAC                                     C                       \\\n",
       "Stock Info    Open   High    Low  Close    Volume   Open   High    Low  Close   \n",
       "Date                                                                            \n",
       "2006-01-03   46.92  47.18  46.15  47.08  16296700  490.0  493.8  481.1  492.9   \n",
       "\n",
       "Bank Ticker           ...     MS                                 WFC         \\\n",
       "Stock Info    Volume  ...   Open   High    Low  Close   Volume  Open   High   \n",
       "Date                  ...                                                     \n",
       "2006-01-03   1537660  ...  57.17  58.49  56.74  58.31  5377000  31.6  31.98   \n",
       "\n",
       "Bank Ticker                        \n",
       "Stock Info    Low Close    Volume  \n",
       "Date                               \n",
       "2006-01-03   31.2  31.9  11016400  \n",
       "\n",
       "[1 rows x 30 columns]"
      ]
     },
     "execution_count": 37,
     "metadata": {},
     "output_type": "execute_result"
    }
   ],
   "source": [
    "bank_stocks = pd.read_pickle(all_banks_file)\n",
    "bank_stocks.head(1)"
   ]
  },
  {
   "cell_type": "markdown",
   "id": "c56404f3",
   "metadata": {},
   "source": [
    "### Filter and slice Multi-Index"
   ]
  },
  {
   "cell_type": "code",
   "execution_count": 41,
   "id": "8adaa11c",
   "metadata": {},
   "outputs": [
    {
     "data": {
      "text/html": [
       "<div>\n",
       "<style scoped>\n",
       "    .dataframe tbody tr th:only-of-type {\n",
       "        vertical-align: middle;\n",
       "    }\n",
       "\n",
       "    .dataframe tbody tr th {\n",
       "        vertical-align: top;\n",
       "    }\n",
       "\n",
       "    .dataframe thead th {\n",
       "        text-align: right;\n",
       "    }\n",
       "</style>\n",
       "<table border=\"1\" class=\"dataframe\">\n",
       "  <thead>\n",
       "    <tr style=\"text-align: right;\">\n",
       "      <th>Stock Info</th>\n",
       "      <th>Open</th>\n",
       "      <th>High</th>\n",
       "      <th>Low</th>\n",
       "      <th>Close</th>\n",
       "      <th>Volume</th>\n",
       "    </tr>\n",
       "    <tr>\n",
       "      <th>Date</th>\n",
       "      <th></th>\n",
       "      <th></th>\n",
       "      <th></th>\n",
       "      <th></th>\n",
       "      <th></th>\n",
       "    </tr>\n",
       "  </thead>\n",
       "  <tbody>\n",
       "    <tr>\n",
       "      <th>2006-03-16</th>\n",
       "      <td>46.48</td>\n",
       "      <td>46.90</td>\n",
       "      <td>46.48</td>\n",
       "      <td>46.76</td>\n",
       "      <td>13005400</td>\n",
       "    </tr>\n",
       "    <tr>\n",
       "      <th>2006-03-17</th>\n",
       "      <td>46.97</td>\n",
       "      <td>46.98</td>\n",
       "      <td>46.64</td>\n",
       "      <td>46.90</td>\n",
       "      <td>18970500</td>\n",
       "    </tr>\n",
       "    <tr>\n",
       "      <th>2006-03-20</th>\n",
       "      <td>46.71</td>\n",
       "      <td>47.00</td>\n",
       "      <td>46.56</td>\n",
       "      <td>46.90</td>\n",
       "      <td>11243700</td>\n",
       "    </tr>\n",
       "  </tbody>\n",
       "</table>\n",
       "</div>"
      ],
      "text/plain": [
       "Stock Info   Open   High    Low  Close    Volume\n",
       "Date                                            \n",
       "2006-03-16  46.48  46.90  46.48  46.76  13005400\n",
       "2006-03-17  46.97  46.98  46.64  46.90  18970500\n",
       "2006-03-20  46.71  47.00  46.56  46.90  11243700"
      ]
     },
     "execution_count": 41,
     "metadata": {},
     "output_type": "execute_result"
    }
   ],
   "source": [
    "bank_stocks[\"BAC\"][\"2006-03-16\":\"2006-03-20\"]"
   ]
  },
  {
   "cell_type": "code",
   "execution_count": 43,
   "id": "d5e3c34b",
   "metadata": {},
   "outputs": [
    {
     "data": {
      "text/plain": [
       "Date\n",
       "2006-01-03    47.08\n",
       "2006-01-04    46.58\n",
       "Name: Close, dtype: float64"
      ]
     },
     "execution_count": 43,
     "metadata": {},
     "output_type": "execute_result"
    }
   ],
   "source": [
    "bank_stocks[\"BAC\"][\"Close\"].head(2)"
   ]
  },
  {
   "cell_type": "code",
   "execution_count": 39,
   "id": "45b8b260",
   "metadata": {},
   "outputs": [
    {
     "data": {
      "text/plain": [
       "['BAC', 'C', 'GS', 'JPM', 'MS', 'WFC']"
      ]
     },
     "execution_count": 39,
     "metadata": {},
     "output_type": "execute_result"
    }
   ],
   "source": [
    "tickers = sorted(bank_stocks.columns.unique(0))\n",
    "tickers  # Bank of America, CitiBank, ..."
   ]
  },
  {
   "cell_type": "markdown",
   "id": "df9d92af",
   "metadata": {},
   "source": [
    "### Multi-Index Cross Section (xs)"
   ]
  },
  {
   "cell_type": "code",
   "execution_count": 77,
   "id": "63b0504a",
   "metadata": {},
   "outputs": [
    {
     "name": "stdout",
     "output_type": "stream",
     "text": [
      "BAC\t54.9\t(2006-01-03 to 2015-12-31)\n",
      "C\t564.1\t(2006-01-03 to 2015-12-31)\n",
      "GS\t247.92\t(2006-01-03 to 2015-12-31)\n",
      "JPM\t70.08\t(2006-01-03 to 2015-12-31)\n",
      "MS\t89.3\t(2006-01-03 to 2015-12-31)\n",
      "WFC\t58.52\t(2006-01-03 to 2015-12-31)\n"
     ]
    }
   ],
   "source": [
    "for tick in tickers:\n",
    "    close_df = bank_stocks[tick][\"Close\"]\n",
    "    print(f\"{tick}\\t{close_df.max()}\\t({close_df.index.min().date()} to {close_df.index.max().date()})\")"
   ]
  },
  {
   "cell_type": "code",
   "execution_count": 78,
   "id": "767ada4b",
   "metadata": {},
   "outputs": [
    {
     "data": {
      "text/plain": [
       "Bank Ticker\n",
       "BAC     54.90\n",
       "C      564.10\n",
       "GS     247.92\n",
       "JPM     70.08\n",
       "MS      89.30\n",
       "WFC     58.52\n",
       "dtype: float64"
      ]
     },
     "execution_count": 78,
     "metadata": {},
     "output_type": "execute_result"
    }
   ],
   "source": [
    "bank_stocks.xs(key=\"Close\", axis=1, level=\"Stock Info\").max()"
   ]
  },
  {
   "cell_type": "code",
   "execution_count": 73,
   "id": "3084609e",
   "metadata": {},
   "outputs": [],
   "source": []
  },
  {
   "cell_type": "code",
   "execution_count": null,
   "id": "e7e47b43",
   "metadata": {},
   "outputs": [],
   "source": []
  }
 ],
 "metadata": {
  "kernelspec": {
   "display_name": "Python (ml)",
   "language": "python",
   "name": "ml"
  },
  "language_info": {
   "codemirror_mode": {
    "name": "ipython",
    "version": 3
   },
   "file_extension": ".py",
   "mimetype": "text/x-python",
   "name": "python",
   "nbconvert_exporter": "python",
   "pygments_lexer": "ipython3",
   "version": "3.10.13"
  }
 },
 "nbformat": 4,
 "nbformat_minor": 5
}
