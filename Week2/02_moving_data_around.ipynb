{
 "cells": [
  {
   "cell_type": "code",
   "execution_count": 1,
   "id": "c3d5e375",
   "metadata": {},
   "outputs": [],
   "source": [
    "import numpy as np"
   ]
  },
  {
   "cell_type": "code",
   "execution_count": 2,
   "id": "eba253d6",
   "metadata": {},
   "outputs": [
    {
     "data": {
      "text/plain": [
       "(3, 2)"
      ]
     },
     "execution_count": 2,
     "metadata": {},
     "output_type": "execute_result"
    }
   ],
   "source": [
    "A = np.array([[1, 2], [3, 4], [5, 6]])\n",
    "A.shape"
   ]
  },
  {
   "cell_type": "code",
   "execution_count": 8,
   "id": "e5b7377c",
   "metadata": {},
   "outputs": [
    {
     "data": {
      "text/plain": [
       "'/home/shivam/projects/coursera-ml-numpy/Week2'"
      ]
     },
     "execution_count": 8,
     "metadata": {},
     "output_type": "execute_result"
    }
   ],
   "source": [
    "import os\n",
    "os.getcwd()"
   ]
  },
  {
   "cell_type": "code",
   "execution_count": 23,
   "id": "eb0f6e7d",
   "metadata": {},
   "outputs": [],
   "source": [
    "featuresX = np.genfromtxt('featuresX.dat', delimiter=',')\n",
    "priceY = np.genfromtxt('priceY.dat')"
   ]
  },
  {
   "cell_type": "code",
   "execution_count": 24,
   "id": "da05dba7",
   "metadata": {},
   "outputs": [
    {
     "data": {
      "text/plain": [
       "((47, 2), (47,))"
      ]
     },
     "execution_count": 24,
     "metadata": {},
     "output_type": "execute_result"
    }
   ],
   "source": [
    "featuresX.shape, priceY.shape"
   ]
  },
  {
   "cell_type": "code",
   "execution_count": 36,
   "id": "5cca4b9a",
   "metadata": {},
   "outputs": [
    {
     "data": {
      "text/plain": [
       "array([329900., 369000., 232000., 539900., 299900., 314900., 198999.,\n",
       "       212000., 242500.])"
      ]
     },
     "execution_count": 36,
     "metadata": {},
     "output_type": "execute_result"
    }
   ],
   "source": [
    "v = priceY[1:10]\n",
    "v"
   ]
  },
  {
   "cell_type": "code",
   "execution_count": 37,
   "id": "c16eaa40",
   "metadata": {},
   "outputs": [],
   "source": [
    "np.savetxt('hello.mat', v)"
   ]
  },
  {
   "cell_type": "code",
   "execution_count": 38,
   "id": "7330409d",
   "metadata": {},
   "outputs": [],
   "source": [
    "v = np.genfromtxt('hello.mat')"
   ]
  },
  {
   "cell_type": "code",
   "execution_count": 39,
   "id": "21d91801",
   "metadata": {},
   "outputs": [
    {
     "data": {
      "text/plain": [
       "array([329900., 369000., 232000., 539900., 299900., 314900., 198999.,\n",
       "       212000., 242500.])"
      ]
     },
     "execution_count": 39,
     "metadata": {},
     "output_type": "execute_result"
    }
   ],
   "source": [
    "v"
   ]
  },
  {
   "cell_type": "code",
   "execution_count": 68,
   "id": "07d76d8c",
   "metadata": {},
   "outputs": [],
   "source": [
    "A = np.array([[1, 2], [3, 4], [5, 6]])"
   ]
  },
  {
   "cell_type": "code",
   "execution_count": 44,
   "id": "15b0779a",
   "metadata": {},
   "outputs": [
    {
     "data": {
      "text/plain": [
       "6"
      ]
     },
     "execution_count": 44,
     "metadata": {},
     "output_type": "execute_result"
    }
   ],
   "source": [
    "A[2][1]"
   ]
  },
  {
   "cell_type": "code",
   "execution_count": 55,
   "id": "4518da11",
   "metadata": {},
   "outputs": [
    {
     "data": {
      "text/plain": [
       "array([3, 4])"
      ]
     },
     "execution_count": 55,
     "metadata": {},
     "output_type": "execute_result"
    }
   ],
   "source": [
    "A[1,:]"
   ]
  },
  {
   "cell_type": "code",
   "execution_count": 56,
   "id": "e592e7d8",
   "metadata": {},
   "outputs": [
    {
     "data": {
      "text/plain": [
       "array([2, 4, 6])"
      ]
     },
     "execution_count": 56,
     "metadata": {},
     "output_type": "execute_result"
    }
   ],
   "source": [
    "A[:,1]"
   ]
  },
  {
   "cell_type": "code",
   "execution_count": 58,
   "id": "97b23848",
   "metadata": {},
   "outputs": [
    {
     "data": {
      "text/plain": [
       "array([[1, 2],\n",
       "       [5, 6]])"
      ]
     },
     "execution_count": 58,
     "metadata": {},
     "output_type": "execute_result"
    }
   ],
   "source": [
    "A[(0, 2),:]"
   ]
  },
  {
   "cell_type": "code",
   "execution_count": 61,
   "id": "df863a1c",
   "metadata": {},
   "outputs": [],
   "source": [
    "A[:,1] = [10, 11, 12]"
   ]
  },
  {
   "cell_type": "code",
   "execution_count": 62,
   "id": "2e43413e",
   "metadata": {},
   "outputs": [
    {
     "data": {
      "text/plain": [
       "array([[ 1, 10],\n",
       "       [ 3, 11],\n",
       "       [ 5, 12]])"
      ]
     },
     "execution_count": 62,
     "metadata": {},
     "output_type": "execute_result"
    }
   ],
   "source": [
    "A"
   ]
  },
  {
   "cell_type": "code",
   "execution_count": 70,
   "id": "94582d4d",
   "metadata": {},
   "outputs": [],
   "source": [
    "A = np.hstack((A, [[100], [101], [102]]))"
   ]
  },
  {
   "cell_type": "code",
   "execution_count": 71,
   "id": "b3d16836",
   "metadata": {},
   "outputs": [
    {
     "data": {
      "text/plain": [
       "array([[  1,   2, 100],\n",
       "       [  3,   4, 101],\n",
       "       [  5,   6, 102]])"
      ]
     },
     "execution_count": 71,
     "metadata": {},
     "output_type": "execute_result"
    }
   ],
   "source": [
    "A"
   ]
  },
  {
   "cell_type": "code",
   "execution_count": 73,
   "id": "6af6d8db",
   "metadata": {},
   "outputs": [
    {
     "data": {
      "text/plain": [
       "array([  1,   2, 100,   3,   4, 101,   5,   6, 102])"
      ]
     },
     "execution_count": 73,
     "metadata": {},
     "output_type": "execute_result"
    }
   ],
   "source": [
    "A.flatten()"
   ]
  },
  {
   "cell_type": "code",
   "execution_count": 74,
   "id": "3dedfcdf",
   "metadata": {},
   "outputs": [],
   "source": [
    "A = [[1, 2], [3, 4], [5, 6]]\n",
    "B = [[11, 12], [13, 14], [15, 16]]"
   ]
  },
  {
   "cell_type": "code",
   "execution_count": 80,
   "id": "7081123c",
   "metadata": {},
   "outputs": [
    {
     "data": {
      "text/plain": [
       "array([[ 1,  2, 11, 12],\n",
       "       [ 3,  4, 13, 14],\n",
       "       [ 5,  6, 15, 16]])"
      ]
     },
     "execution_count": 80,
     "metadata": {},
     "output_type": "execute_result"
    }
   ],
   "source": [
    "np.hstack((A, B))"
   ]
  },
  {
   "cell_type": "code",
   "execution_count": 81,
   "id": "a08ce87d",
   "metadata": {},
   "outputs": [
    {
     "data": {
      "text/plain": [
       "array([[ 1,  2],\n",
       "       [ 3,  4],\n",
       "       [ 5,  6],\n",
       "       [11, 12],\n",
       "       [13, 14],\n",
       "       [15, 16]])"
      ]
     },
     "execution_count": 81,
     "metadata": {},
     "output_type": "execute_result"
    }
   ],
   "source": [
    "np.vstack((A, B))"
   ]
  },
  {
   "cell_type": "code",
   "execution_count": null,
   "id": "8337bb5e",
   "metadata": {},
   "outputs": [],
   "source": []
  }
 ],
 "metadata": {
  "kernelspec": {
   "display_name": "Python 3 (ipykernel)",
   "language": "python",
   "name": "python3"
  },
  "language_info": {
   "codemirror_mode": {
    "name": "ipython",
    "version": 3
   },
   "file_extension": ".py",
   "mimetype": "text/x-python",
   "name": "python",
   "nbconvert_exporter": "python",
   "pygments_lexer": "ipython3",
   "version": "3.8.10"
  }
 },
 "nbformat": 4,
 "nbformat_minor": 5
}
