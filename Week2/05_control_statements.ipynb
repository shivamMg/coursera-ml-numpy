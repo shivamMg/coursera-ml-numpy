{
 "cells": [
  {
   "cell_type": "code",
   "execution_count": 1,
   "id": "0a880608",
   "metadata": {},
   "outputs": [],
   "source": [
    "import numpy as np"
   ]
  },
  {
   "cell_type": "code",
   "execution_count": 5,
   "id": "de40b11b",
   "metadata": {},
   "outputs": [
    {
     "data": {
      "text/plain": [
       "array([[0.],\n",
       "       [0.],\n",
       "       [0.],\n",
       "       [0.],\n",
       "       [0.],\n",
       "       [0.],\n",
       "       [0.],\n",
       "       [0.],\n",
       "       [0.],\n",
       "       [0.]])"
      ]
     },
     "execution_count": 5,
     "metadata": {},
     "output_type": "execute_result"
    }
   ],
   "source": [
    "v = np.zeros((10, 1))\n",
    "v"
   ]
  },
  {
   "cell_type": "code",
   "execution_count": 7,
   "id": "68676b38",
   "metadata": {},
   "outputs": [
    {
     "data": {
      "text/plain": [
       "array([[   2.],\n",
       "       [   4.],\n",
       "       [   8.],\n",
       "       [  16.],\n",
       "       [  32.],\n",
       "       [  64.],\n",
       "       [ 128.],\n",
       "       [ 256.],\n",
       "       [ 512.],\n",
       "       [1024.]])"
      ]
     },
     "execution_count": 7,
     "metadata": {},
     "output_type": "execute_result"
    }
   ],
   "source": [
    "for i in range(1, 11):\n",
    "    v[i-1] = 2**i\n",
    "v"
   ]
  },
  {
   "cell_type": "code",
   "execution_count": 8,
   "id": "650db911",
   "metadata": {},
   "outputs": [
    {
     "name": "stdout",
     "output_type": "stream",
     "text": [
      "1\n",
      "2\n",
      "3\n",
      "4\n",
      "5\n",
      "6\n",
      "7\n",
      "8\n",
      "9\n",
      "10\n"
     ]
    }
   ],
   "source": [
    "indices = range(1, 11)\n",
    "for i in indices:\n",
    "    print(i)"
   ]
  },
  {
   "cell_type": "code",
   "execution_count": 10,
   "id": "9c60a2a3",
   "metadata": {},
   "outputs": [
    {
     "data": {
      "text/plain": [
       "array([[ 100.],\n",
       "       [ 100.],\n",
       "       [ 100.],\n",
       "       [ 100.],\n",
       "       [ 100.],\n",
       "       [  64.],\n",
       "       [ 128.],\n",
       "       [ 256.],\n",
       "       [ 512.],\n",
       "       [1024.]])"
      ]
     },
     "execution_count": 10,
     "metadata": {},
     "output_type": "execute_result"
    }
   ],
   "source": [
    "i = 1\n",
    "while i <= 5:\n",
    "    v [i-1] = 100\n",
    "    i += 1\n",
    "v"
   ]
  },
  {
   "cell_type": "code",
   "execution_count": 11,
   "id": "b9ba4a56",
   "metadata": {},
   "outputs": [
    {
     "data": {
      "text/plain": [
       "array([[ 999.],\n",
       "       [ 999.],\n",
       "       [ 999.],\n",
       "       [ 999.],\n",
       "       [ 999.],\n",
       "       [  64.],\n",
       "       [ 128.],\n",
       "       [ 256.],\n",
       "       [ 512.],\n",
       "       [1024.]])"
      ]
     },
     "execution_count": 11,
     "metadata": {},
     "output_type": "execute_result"
    }
   ],
   "source": [
    "i = 1\n",
    "while True:\n",
    "    v[i-1] = 999\n",
    "    i = i + 1\n",
    "    if i == 6:\n",
    "        break\n",
    "v"
   ]
  },
  {
   "cell_type": "code",
   "execution_count": 12,
   "id": "98dca8ef",
   "metadata": {},
   "outputs": [
    {
     "name": "stdout",
     "output_type": "stream",
     "text": [
      "The value is two\n"
     ]
    }
   ],
   "source": [
    "v[0] = 2\n",
    "if v[0] == 1:\n",
    "    print('The value is one')\n",
    "elif v[0] == 2:\n",
    "    print('The value is two')\n",
    "else:\n",
    "    print('The value is not one or two.')"
   ]
  },
  {
   "cell_type": "code",
   "execution_count": 14,
   "id": "7dcb7b32",
   "metadata": {},
   "outputs": [
    {
     "data": {
      "text/plain": [
       "25"
      ]
     },
     "execution_count": 14,
     "metadata": {},
     "output_type": "execute_result"
    }
   ],
   "source": [
    "def squareThisNumber(x):\n",
    "    return x ** 2\n",
    "squareThisNumber(5)"
   ]
  },
  {
   "cell_type": "code",
   "execution_count": 16,
   "id": "0796d388",
   "metadata": {},
   "outputs": [
    {
     "data": {
      "text/plain": [
       "(25, 125)"
      ]
     },
     "execution_count": 16,
     "metadata": {},
     "output_type": "execute_result"
    }
   ],
   "source": [
    "def squareAndCudeThisNumber(x):\n",
    "    return x ** 2, x ** 3\n",
    "a, b = squareAndCudeThisNumber(5)\n",
    "a, b"
   ]
  },
  {
   "cell_type": "code",
   "execution_count": 17,
   "id": "b89f603c",
   "metadata": {},
   "outputs": [],
   "source": [
    "X = np.array([[1, 1], [1, 2], [1, 3]])\n",
    "y = np.array([[1], [2], [3]])\n",
    "θ = np.array([[0], [1]])"
   ]
  },
  {
   "cell_type": "code",
   "execution_count": 18,
   "id": "01a43181",
   "metadata": {},
   "outputs": [],
   "source": [
    "def costFunctionJ(X, y, θ):\n",
    "    m = X.shape[0]\n",
    "    predictions = np.dot(X, θ)\n",
    "    sqrErrors = (predictions - y) ** 2\n",
    "    return (1 / (2 * m)) * np.sum(sqrErrors)"
   ]
  },
  {
   "cell_type": "code",
   "execution_count": 19,
   "id": "eef9309b",
   "metadata": {},
   "outputs": [
    {
     "data": {
      "text/plain": [
       "0.0"
      ]
     },
     "execution_count": 19,
     "metadata": {},
     "output_type": "execute_result"
    }
   ],
   "source": [
    "costFunctionJ(X, y, θ)"
   ]
  },
  {
   "cell_type": "code",
   "execution_count": 20,
   "id": "cee64e64",
   "metadata": {},
   "outputs": [
    {
     "data": {
      "text/plain": [
       "2.333333333333333"
      ]
     },
     "execution_count": 20,
     "metadata": {},
     "output_type": "execute_result"
    }
   ],
   "source": [
    "θ = np.array([[0], [0]])\n",
    "costFunctionJ(X, y, θ)"
   ]
  },
  {
   "cell_type": "code",
   "execution_count": null,
   "id": "5f2e60a9",
   "metadata": {},
   "outputs": [],
   "source": []
  }
 ],
 "metadata": {
  "kernelspec": {
   "display_name": "Python 3 (ipykernel)",
   "language": "python",
   "name": "python3"
  },
  "language_info": {
   "codemirror_mode": {
    "name": "ipython",
    "version": 3
   },
   "file_extension": ".py",
   "mimetype": "text/x-python",
   "name": "python",
   "nbconvert_exporter": "python",
   "pygments_lexer": "ipython3",
   "version": "3.8.10"
  }
 },
 "nbformat": 4,
 "nbformat_minor": 5
}
