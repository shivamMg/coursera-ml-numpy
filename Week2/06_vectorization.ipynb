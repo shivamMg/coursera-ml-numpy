{
 "cells": [
  {
   "cell_type": "code",
   "execution_count": 1,
   "id": "9119dfb0",
   "metadata": {},
   "outputs": [],
   "source": [
    "import numpy as np"
   ]
  },
  {
   "cell_type": "code",
   "execution_count": 4,
   "id": "bf147add",
   "metadata": {},
   "outputs": [],
   "source": [
    "# unvectorized\n",
    "theta = lambda _: 0\n",
    "x = lambda _: 0\n",
    "n = 10\n",
    "\n",
    "prediction = 0.0\n",
    "for j in range(n+1):\n",
    "    prediction += theta(j) * x(j)"
   ]
  },
  {
   "cell_type": "code",
   "execution_count": 7,
   "id": "8b37ffd4",
   "metadata": {},
   "outputs": [],
   "source": [
    "# vectorized\n",
    "theta = np.array([])\n",
    "x = np.array([])\n",
    "\n",
    "prediction = np.transpose(theta) * x  # θT * x"
   ]
  },
  {
   "cell_type": "code",
   "execution_count": 10,
   "id": "90e86c61",
   "metadata": {},
   "outputs": [],
   "source": [
    "# vecotorized parameter calculation:\n",
    "# θ = θ - α * δ"
   ]
  },
  {
   "cell_type": "code",
   "execution_count": null,
   "id": "8bf90daf",
   "metadata": {},
   "outputs": [],
   "source": []
  }
 ],
 "metadata": {
  "kernelspec": {
   "display_name": "Python 3 (ipykernel)",
   "language": "python",
   "name": "python3"
  },
  "language_info": {
   "codemirror_mode": {
    "name": "ipython",
    "version": 3
   },
   "file_extension": ".py",
   "mimetype": "text/x-python",
   "name": "python",
   "nbconvert_exporter": "python",
   "pygments_lexer": "ipython3",
   "version": "3.8.10"
  }
 },
 "nbformat": 4,
 "nbformat_minor": 5
}
