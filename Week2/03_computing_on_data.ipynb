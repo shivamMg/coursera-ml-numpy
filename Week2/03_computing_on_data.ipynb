{
 "cells": [
  {
   "cell_type": "code",
   "execution_count": 1,
   "id": "e1835696",
   "metadata": {},
   "outputs": [],
   "source": [
    "import numpy as np"
   ]
  },
  {
   "cell_type": "code",
   "execution_count": 2,
   "id": "a33c98f3",
   "metadata": {},
   "outputs": [],
   "source": [
    "A = np.array([[1, 2], [3, 4], [5, 6]])\n",
    "B = np.array([[11, 12], [13, 14], [15, 16]])\n",
    "C = np.array([[1, 1], [2, 2]])"
   ]
  },
  {
   "cell_type": "code",
   "execution_count": 4,
   "id": "64019e78",
   "metadata": {},
   "outputs": [
    {
     "data": {
      "text/plain": [
       "array([[ 5,  5],\n",
       "       [11, 11],\n",
       "       [17, 17]])"
      ]
     },
     "execution_count": 4,
     "metadata": {},
     "output_type": "execute_result"
    }
   ],
   "source": [
    "np.dot(A, C)"
   ]
  },
  {
   "cell_type": "code",
   "execution_count": 5,
   "id": "d4549b67",
   "metadata": {},
   "outputs": [
    {
     "data": {
      "text/plain": [
       "array([[11, 24],\n",
       "       [39, 56],\n",
       "       [75, 96]])"
      ]
     },
     "execution_count": 5,
     "metadata": {},
     "output_type": "execute_result"
    }
   ],
   "source": [
    "np.multiply(A, B)"
   ]
  },
  {
   "cell_type": "code",
   "execution_count": 11,
   "id": "d5c164ee",
   "metadata": {},
   "outputs": [
    {
     "data": {
      "text/plain": [
       "array([[ 1,  4],\n",
       "       [ 9, 16],\n",
       "       [25, 36]])"
      ]
     },
     "execution_count": 11,
     "metadata": {},
     "output_type": "execute_result"
    }
   ],
   "source": [
    "A ** 2"
   ]
  },
  {
   "cell_type": "code",
   "execution_count": 12,
   "id": "2204b40e",
   "metadata": {},
   "outputs": [],
   "source": [
    "v = np.array([[1], [2], [3]])"
   ]
  },
  {
   "cell_type": "code",
   "execution_count": 13,
   "id": "10fa5540",
   "metadata": {},
   "outputs": [
    {
     "data": {
      "text/plain": [
       "array([[1.        ],\n",
       "       [0.5       ],\n",
       "       [0.33333333]])"
      ]
     },
     "execution_count": 13,
     "metadata": {},
     "output_type": "execute_result"
    }
   ],
   "source": [
    "1 / v"
   ]
  },
  {
   "cell_type": "code",
   "execution_count": 14,
   "id": "ee4b2d12",
   "metadata": {},
   "outputs": [
    {
     "data": {
      "text/plain": [
       "array([[1.        , 0.5       ],\n",
       "       [0.33333333, 0.25      ],\n",
       "       [0.2       , 0.16666667]])"
      ]
     },
     "execution_count": 14,
     "metadata": {},
     "output_type": "execute_result"
    }
   ],
   "source": [
    "1 / A"
   ]
  },
  {
   "cell_type": "code",
   "execution_count": 15,
   "id": "829bcd20",
   "metadata": {},
   "outputs": [
    {
     "data": {
      "text/plain": [
       "array([[0.        ],\n",
       "       [0.69314718],\n",
       "       [1.09861229]])"
      ]
     },
     "execution_count": 15,
     "metadata": {},
     "output_type": "execute_result"
    }
   ],
   "source": [
    "np.log(v)"
   ]
  },
  {
   "cell_type": "code",
   "execution_count": 16,
   "id": "8fa33ea1",
   "metadata": {},
   "outputs": [
    {
     "data": {
      "text/plain": [
       "array([[ 2.71828183],\n",
       "       [ 7.3890561 ],\n",
       "       [20.08553692]])"
      ]
     },
     "execution_count": 16,
     "metadata": {},
     "output_type": "execute_result"
    }
   ],
   "source": [
    "np.exp(v)"
   ]
  },
  {
   "cell_type": "code",
   "execution_count": 19,
   "id": "2caab571",
   "metadata": {},
   "outputs": [
    {
     "data": {
      "text/plain": [
       "array([[1],\n",
       "       [2],\n",
       "       [3]])"
      ]
     },
     "execution_count": 19,
     "metadata": {},
     "output_type": "execute_result"
    }
   ],
   "source": [
    "np.abs(np.array([[-1], [2], [-3]]))"
   ]
  },
  {
   "cell_type": "code",
   "execution_count": 20,
   "id": "93ae563e",
   "metadata": {},
   "outputs": [
    {
     "data": {
      "text/plain": [
       "array([[-1],\n",
       "       [-2],\n",
       "       [-3]])"
      ]
     },
     "execution_count": 20,
     "metadata": {},
     "output_type": "execute_result"
    }
   ],
   "source": [
    "-v"
   ]
  },
  {
   "cell_type": "code",
   "execution_count": 28,
   "id": "b1ed365c",
   "metadata": {},
   "outputs": [
    {
     "data": {
      "text/plain": [
       "array([[2.],\n",
       "       [3.],\n",
       "       [4.]])"
      ]
     },
     "execution_count": 28,
     "metadata": {},
     "output_type": "execute_result"
    }
   ],
   "source": [
    "v + np.ones((v.shape[1], 1))"
   ]
  },
  {
   "cell_type": "code",
   "execution_count": 29,
   "id": "8f339c63",
   "metadata": {},
   "outputs": [
    {
     "data": {
      "text/plain": [
       "array([[2],\n",
       "       [3],\n",
       "       [4]])"
      ]
     },
     "execution_count": 29,
     "metadata": {},
     "output_type": "execute_result"
    }
   ],
   "source": [
    "v + 1"
   ]
  },
  {
   "cell_type": "code",
   "execution_count": 30,
   "id": "dc214871",
   "metadata": {},
   "outputs": [
    {
     "data": {
      "text/plain": [
       "array([[1, 2],\n",
       "       [3, 4],\n",
       "       [5, 6]])"
      ]
     },
     "execution_count": 30,
     "metadata": {},
     "output_type": "execute_result"
    }
   ],
   "source": [
    "A"
   ]
  },
  {
   "cell_type": "code",
   "execution_count": 31,
   "id": "c8e19e23",
   "metadata": {},
   "outputs": [
    {
     "data": {
      "text/plain": [
       "array([[1, 3, 5],\n",
       "       [2, 4, 6]])"
      ]
     },
     "execution_count": 31,
     "metadata": {},
     "output_type": "execute_result"
    }
   ],
   "source": [
    "np.transpose(A)"
   ]
  },
  {
   "cell_type": "code",
   "execution_count": 32,
   "id": "e770628a",
   "metadata": {},
   "outputs": [],
   "source": [
    "a = np.array([1, 15, 2, 0.5])"
   ]
  },
  {
   "cell_type": "code",
   "execution_count": 43,
   "id": "5fe05536",
   "metadata": {},
   "outputs": [
    {
     "data": {
      "text/plain": [
       "(15.0, 1)"
      ]
     },
     "execution_count": 43,
     "metadata": {},
     "output_type": "execute_result"
    }
   ],
   "source": [
    "val, ind = np.max(a), np.argmax(a)\n",
    "val, ind"
   ]
  },
  {
   "cell_type": "code",
   "execution_count": 44,
   "id": "864a2fe7",
   "metadata": {},
   "outputs": [
    {
     "data": {
      "text/plain": [
       "6"
      ]
     },
     "execution_count": 44,
     "metadata": {},
     "output_type": "execute_result"
    }
   ],
   "source": [
    "np.max(A)"
   ]
  },
  {
   "cell_type": "code",
   "execution_count": 45,
   "id": "6e3242da",
   "metadata": {},
   "outputs": [
    {
     "data": {
      "text/plain": [
       "array([ True, False,  True,  True])"
      ]
     },
     "execution_count": 45,
     "metadata": {},
     "output_type": "execute_result"
    }
   ],
   "source": [
    "a < 3"
   ]
  },
  {
   "cell_type": "code",
   "execution_count": 46,
   "id": "de62d1b1",
   "metadata": {},
   "outputs": [
    {
     "data": {
      "text/plain": [
       "array([1. , 2. , 0.5])"
      ]
     },
     "execution_count": 46,
     "metadata": {},
     "output_type": "execute_result"
    }
   ],
   "source": [
    "a[a < 3]"
   ]
  },
  {
   "cell_type": "code",
   "execution_count": 52,
   "id": "03d7bb3f",
   "metadata": {},
   "outputs": [
    {
     "data": {
      "text/plain": [
       "(array([0, 2, 3]),)"
      ]
     },
     "execution_count": 52,
     "metadata": {},
     "output_type": "execute_result"
    }
   ],
   "source": [
    "np.where(a < 3)"
   ]
  },
  {
   "cell_type": "code",
   "execution_count": 72,
   "id": "95360f89",
   "metadata": {},
   "outputs": [],
   "source": [
    "# there's no function to generate a magic matrix in numpy\n",
    "# we'll install another public package for it"
   ]
  },
  {
   "cell_type": "code",
   "execution_count": 73,
   "id": "24ff53fd",
   "metadata": {},
   "outputs": [
    {
     "name": "stdout",
     "output_type": "stream",
     "text": [
      "Collecting magic_square\n",
      "  Downloading magic_square-0.2.tar.bz2 (99 kB)\n",
      "\u001b[K     |████████████████████████████████| 99 kB 1.6 MB/s eta 0:00:011\n",
      "\u001b[?25hBuilding wheels for collected packages: magic-square\n",
      "  Building wheel for magic-square (setup.py) ... \u001b[?25ldone\n",
      "\u001b[?25h  Created wheel for magic-square: filename=magic_square-0.2-py3-none-any.whl size=6038 sha256=2cf9de38b50c2c799c9ac2bbde67d464b1c6283eb1ba8ade4b0fe6f154b6574f\n",
      "  Stored in directory: /home/shivam/.cache/pip/wheels/4f/7c/bb/1eda87439a3720ba7bce946932f0115534d97d61c0ce9b176e\n",
      "Successfully built magic-square\n",
      "Installing collected packages: magic-square\n",
      "Successfully installed magic-square-0.2\n",
      "Note: you may need to restart the kernel to use updated packages.\n"
     ]
    }
   ],
   "source": [
    "%pip install magic_square"
   ]
  },
  {
   "cell_type": "code",
   "execution_count": 78,
   "id": "4c945cdd",
   "metadata": {},
   "outputs": [],
   "source": [
    "from magic_square import magic\n",
    "A = magic(3)"
   ]
  },
  {
   "cell_type": "code",
   "execution_count": 79,
   "id": "f23dbc0c",
   "metadata": {},
   "outputs": [],
   "source": [
    "r, c = np.where(A >= 7)"
   ]
  },
  {
   "cell_type": "code",
   "execution_count": 80,
   "id": "02459e61",
   "metadata": {},
   "outputs": [
    {
     "data": {
      "text/plain": [
       "array([0, 1, 2])"
      ]
     },
     "execution_count": 80,
     "metadata": {},
     "output_type": "execute_result"
    }
   ],
   "source": [
    "r"
   ]
  },
  {
   "cell_type": "code",
   "execution_count": 81,
   "id": "0ac025fd",
   "metadata": {},
   "outputs": [
    {
     "data": {
      "text/plain": [
       "array([0, 2, 1])"
      ]
     },
     "execution_count": 81,
     "metadata": {},
     "output_type": "execute_result"
    }
   ],
   "source": [
    "c"
   ]
  },
  {
   "cell_type": "code",
   "execution_count": 82,
   "id": "59666ce8",
   "metadata": {},
   "outputs": [
    {
     "data": {
      "text/plain": [
       "7"
      ]
     },
     "execution_count": 82,
     "metadata": {},
     "output_type": "execute_result"
    }
   ],
   "source": [
    "A[1,2]"
   ]
  },
  {
   "cell_type": "code",
   "execution_count": 83,
   "id": "783130e7",
   "metadata": {},
   "outputs": [
    {
     "data": {
      "text/plain": [
       "18.5"
      ]
     },
     "execution_count": 83,
     "metadata": {},
     "output_type": "execute_result"
    }
   ],
   "source": [
    "np.sum(a)"
   ]
  },
  {
   "cell_type": "code",
   "execution_count": 84,
   "id": "af036bfb",
   "metadata": {},
   "outputs": [
    {
     "data": {
      "text/plain": [
       "15.0"
      ]
     },
     "execution_count": 84,
     "metadata": {},
     "output_type": "execute_result"
    }
   ],
   "source": [
    "np.prod(a)"
   ]
  },
  {
   "cell_type": "code",
   "execution_count": 85,
   "id": "e9ccaa1b",
   "metadata": {},
   "outputs": [
    {
     "data": {
      "text/plain": [
       "array([ 1., 15.,  2.,  0.])"
      ]
     },
     "execution_count": 85,
     "metadata": {},
     "output_type": "execute_result"
    }
   ],
   "source": [
    "np.floor(a)"
   ]
  },
  {
   "cell_type": "code",
   "execution_count": 86,
   "id": "2dc41750",
   "metadata": {},
   "outputs": [
    {
     "data": {
      "text/plain": [
       "array([ 1., 15.,  2.,  1.])"
      ]
     },
     "execution_count": 86,
     "metadata": {},
     "output_type": "execute_result"
    }
   ],
   "source": [
    "np.ceil(a)"
   ]
  },
  {
   "cell_type": "code",
   "execution_count": 87,
   "id": "3d92d51f",
   "metadata": {},
   "outputs": [
    {
     "data": {
      "text/plain": [
       "array([[0.21247548, 0.50764356, 0.65736798],\n",
       "       [0.86944228, 0.67784593, 0.74171697],\n",
       "       [0.67887174, 0.89145424, 0.7390116 ]])"
      ]
     },
     "execution_count": 87,
     "metadata": {},
     "output_type": "execute_result"
    }
   ],
   "source": [
    "np.maximum(np.random.rand(3, 3), np.random.rand(3, 3))"
   ]
  },
  {
   "cell_type": "code",
   "execution_count": 88,
   "id": "9cb268f0",
   "metadata": {},
   "outputs": [
    {
     "data": {
      "text/plain": [
       "array([[8, 1, 6],\n",
       "       [3, 5, 7],\n",
       "       [4, 9, 2]])"
      ]
     },
     "execution_count": 88,
     "metadata": {},
     "output_type": "execute_result"
    }
   ],
   "source": [
    "A"
   ]
  },
  {
   "cell_type": "code",
   "execution_count": 89,
   "id": "0ca82759",
   "metadata": {},
   "outputs": [
    {
     "data": {
      "text/plain": [
       "array([8, 9, 7])"
      ]
     },
     "execution_count": 89,
     "metadata": {},
     "output_type": "execute_result"
    }
   ],
   "source": [
    "np.max(A, axis=0)"
   ]
  },
  {
   "cell_type": "code",
   "execution_count": 90,
   "id": "f090c044",
   "metadata": {},
   "outputs": [
    {
     "data": {
      "text/plain": [
       "array([8, 7, 9])"
      ]
     },
     "execution_count": 90,
     "metadata": {},
     "output_type": "execute_result"
    }
   ],
   "source": [
    "np.max(A, axis=1)"
   ]
  },
  {
   "cell_type": "code",
   "execution_count": 91,
   "id": "8836cce4",
   "metadata": {},
   "outputs": [],
   "source": [
    "A = magic(9)"
   ]
  },
  {
   "cell_type": "code",
   "execution_count": 92,
   "id": "50fc0439",
   "metadata": {},
   "outputs": [
    {
     "data": {
      "text/plain": [
       "array([[47, 58, 69, 80,  1, 12, 23, 34, 45],\n",
       "       [57, 68, 79,  9, 11, 22, 33, 44, 46],\n",
       "       [67, 78,  8, 10, 21, 32, 43, 54, 56],\n",
       "       [77,  7, 18, 20, 31, 42, 53, 55, 66],\n",
       "       [ 6, 17, 19, 30, 41, 52, 63, 65, 76],\n",
       "       [16, 27, 29, 40, 51, 62, 64, 75,  5],\n",
       "       [26, 28, 39, 50, 61, 72, 74,  4, 15],\n",
       "       [36, 38, 49, 60, 71, 73,  3, 14, 25],\n",
       "       [37, 48, 59, 70, 81,  2, 13, 24, 35]])"
      ]
     },
     "execution_count": 92,
     "metadata": {},
     "output_type": "execute_result"
    }
   ],
   "source": [
    "A"
   ]
  },
  {
   "cell_type": "code",
   "execution_count": 93,
   "id": "e8ef3846",
   "metadata": {},
   "outputs": [
    {
     "data": {
      "text/plain": [
       "array([369, 369, 369, 369, 369, 369, 369, 369, 369])"
      ]
     },
     "execution_count": 93,
     "metadata": {},
     "output_type": "execute_result"
    }
   ],
   "source": [
    "np.sum(A, axis=0)"
   ]
  },
  {
   "cell_type": "code",
   "execution_count": 94,
   "id": "a72e3936",
   "metadata": {},
   "outputs": [
    {
     "data": {
      "text/plain": [
       "array([369, 369, 369, 369, 369, 369, 369, 369, 369])"
      ]
     },
     "execution_count": 94,
     "metadata": {},
     "output_type": "execute_result"
    }
   ],
   "source": [
    "np.sum(A, axis=1)"
   ]
  },
  {
   "cell_type": "code",
   "execution_count": 99,
   "id": "23c97d82",
   "metadata": {},
   "outputs": [
    {
     "data": {
      "text/plain": [
       "369.0"
      ]
     },
     "execution_count": 99,
     "metadata": {},
     "output_type": "execute_result"
    }
   ],
   "source": [
    "np.sum(np.multiply(A, np.eye(9)))"
   ]
  },
  {
   "cell_type": "code",
   "execution_count": 102,
   "id": "380492b3",
   "metadata": {},
   "outputs": [
    {
     "data": {
      "text/plain": [
       "369.0"
      ]
     },
     "execution_count": 102,
     "metadata": {},
     "output_type": "execute_result"
    }
   ],
   "source": [
    "np.sum(np.multiply(A, np.flipud(np.eye(9))))"
   ]
  },
  {
   "cell_type": "code",
   "execution_count": 105,
   "id": "92fd7f40",
   "metadata": {},
   "outputs": [
    {
     "data": {
      "text/plain": [
       "array([[8, 1, 6],\n",
       "       [3, 5, 7],\n",
       "       [4, 9, 2]])"
      ]
     },
     "execution_count": 105,
     "metadata": {},
     "output_type": "execute_result"
    }
   ],
   "source": [
    "A = magic(3)\n",
    "A"
   ]
  },
  {
   "cell_type": "code",
   "execution_count": 107,
   "id": "277d73df",
   "metadata": {},
   "outputs": [
    {
     "data": {
      "text/plain": [
       "array([[ 0.14722222, -0.14444444,  0.06388889],\n",
       "       [-0.06111111,  0.02222222,  0.10555556],\n",
       "       [-0.01944444,  0.18888889, -0.10277778]])"
      ]
     },
     "execution_count": 107,
     "metadata": {},
     "output_type": "execute_result"
    }
   ],
   "source": [
    "inv_A = np.linalg.pinv(A)\n",
    "inv_A"
   ]
  },
  {
   "cell_type": "code",
   "execution_count": 109,
   "id": "9413d05e",
   "metadata": {},
   "outputs": [
    {
     "data": {
      "text/plain": [
       "array([[ 1.00000000e+00,  2.77555756e-17, -2.94209102e-15],\n",
       "       [-5.82867088e-15,  1.00000000e+00,  6.49480469e-15],\n",
       "       [ 3.05311332e-15,  3.33066907e-16,  1.00000000e+00]])"
      ]
     },
     "execution_count": 109,
     "metadata": {},
     "output_type": "execute_result"
    }
   ],
   "source": [
    "np.dot(inv_A, A)  # equal to identity matrix"
   ]
  },
  {
   "cell_type": "code",
   "execution_count": null,
   "id": "1de46fff",
   "metadata": {},
   "outputs": [],
   "source": []
  }
 ],
 "metadata": {
  "kernelspec": {
   "display_name": "Python 3 (ipykernel)",
   "language": "python",
   "name": "python3"
  },
  "language_info": {
   "codemirror_mode": {
    "name": "ipython",
    "version": 3
   },
   "file_extension": ".py",
   "mimetype": "text/x-python",
   "name": "python",
   "nbconvert_exporter": "python",
   "pygments_lexer": "ipython3",
   "version": "3.8.10"
  }
 },
 "nbformat": 4,
 "nbformat_minor": 5
}
