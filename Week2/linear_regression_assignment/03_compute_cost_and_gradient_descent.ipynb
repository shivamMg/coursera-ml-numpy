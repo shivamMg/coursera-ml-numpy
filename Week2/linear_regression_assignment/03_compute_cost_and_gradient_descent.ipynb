{
 "cells": [
  {
   "cell_type": "code",
   "execution_count": 136,
   "id": "2f3d8fba",
   "metadata": {},
   "outputs": [],
   "source": [
    "import numpy as np\n",
    "import seaborn as sns\n",
    "import matplotlib.pyplot as plt"
   ]
  },
  {
   "cell_type": "code",
   "execution_count": 78,
   "id": "29a8426c",
   "metadata": {},
   "outputs": [],
   "source": [
    "data = np.genfromtxt('ex1data1.txt', delimiter=',')\n",
    "m = data.shape[0]\n",
    "y = data[:,1]\n",
    "y = y[:,np.newaxis]  # https://stackoverflow.com/a/33481152"
   ]
  },
  {
   "cell_type": "code",
   "execution_count": 79,
   "id": "679e3322",
   "metadata": {},
   "outputs": [
    {
     "data": {
      "text/plain": [
       "array([[1.    , 6.1101],\n",
       "       [1.    , 5.5277],\n",
       "       [1.    , 8.5186],\n",
       "       [1.    , 7.0032],\n",
       "       [1.    , 5.8598]])"
      ]
     },
     "execution_count": 79,
     "metadata": {},
     "output_type": "execute_result"
    }
   ],
   "source": [
    "X = np.ones((m, 2))\n",
    "X[:,1] = data[:,0]\n",
    "X[:5]"
   ]
  },
  {
   "cell_type": "code",
   "execution_count": 38,
   "id": "4bf673b8",
   "metadata": {},
   "outputs": [
    {
     "data": {
      "text/plain": [
       "array([[0.],\n",
       "       [0.]])"
      ]
     },
     "execution_count": 38,
     "metadata": {},
     "output_type": "execute_result"
    }
   ],
   "source": [
    "theta = np.zeros((2, 1))\n",
    "theta"
   ]
  },
  {
   "cell_type": "code",
   "execution_count": 41,
   "id": "7a8bbf8b",
   "metadata": {},
   "outputs": [],
   "source": [
    "iterations = 1500\n",
    "alpha = 0.01"
   ]
  },
  {
   "cell_type": "code",
   "execution_count": 80,
   "id": "c1ca7c1d",
   "metadata": {},
   "outputs": [],
   "source": [
    "def compute_cost(X, y, theta):\n",
    "    m = X.shape[0]\n",
    "    predictions = np.dot(X, theta)\n",
    "    sqr_errors = (predictions - y) ** 2\n",
    "    return (1 / (2 * m)) * np.sum(sqr_errors)"
   ]
  },
  {
   "cell_type": "code",
   "execution_count": 81,
   "id": "817397e9",
   "metadata": {},
   "outputs": [
    {
     "data": {
      "text/plain": [
       "32.072733877455676"
      ]
     },
     "execution_count": 81,
     "metadata": {},
     "output_type": "execute_result"
    }
   ],
   "source": [
    "compute_cost(X, y, theta)"
   ]
  },
  {
   "cell_type": "code",
   "execution_count": 82,
   "id": "7348f60d",
   "metadata": {},
   "outputs": [
    {
     "data": {
      "text/plain": [
       "54.24245508201238"
      ]
     },
     "execution_count": 82,
     "metadata": {},
     "output_type": "execute_result"
    }
   ],
   "source": [
    "compute_cost(X, y, np.array([[-1], [2]]))"
   ]
  },
  {
   "cell_type": "code",
   "execution_count": 111,
   "id": "c9d7abe0",
   "metadata": {},
   "outputs": [],
   "source": [
    "def gradient_descent_step(X, y, theta, alpha):\n",
    "    m = X.shape[0]\n",
    "    predictions = np.dot(X, theta)\n",
    "    term = np.dot(np.transpose(X), (predictions - y))  # https://www.geeksforgeeks.org/vectorization-of-gradient-descent/\n",
    "    return theta - alpha * (1 / m) * term"
   ]
  },
  {
   "cell_type": "code",
   "execution_count": 120,
   "id": "532f89ab",
   "metadata": {},
   "outputs": [],
   "source": [
    "def gradient_descent(X, y, theta, alpha, iterations):\n",
    "    cost_function_history = []\n",
    "    for i in range(iterations):\n",
    "        theta = gradient_descent_step(X, y, theta, alpha)\n",
    "        cost_function_history.append(compute_cost(X, y, theta))\n",
    "    return theta, cost_function_history"
   ]
  },
  {
   "cell_type": "code",
   "execution_count": 161,
   "id": "a96541e3",
   "metadata": {},
   "outputs": [
    {
     "data": {
      "text/plain": [
       "array([[-3.63029144],\n",
       "       [ 1.16636235]])"
      ]
     },
     "execution_count": 161,
     "metadata": {},
     "output_type": "execute_result"
    }
   ],
   "source": [
    "final_theta, _ = gradient_descent(X, y, theta, alpha, iterations)\n",
    "final_theta"
   ]
  },
  {
   "cell_type": "code",
   "execution_count": 162,
   "id": "e4a22a76",
   "metadata": {},
   "outputs": [
    {
     "data": {
      "text/plain": [
       "<AxesSubplot:title={'center':'Plot'}, xlabel='Population', ylabel='Revenue'>"
      ]
     },
     "execution_count": 162,
     "metadata": {},
     "output_type": "execute_result"
    },
    {
     "data": {
      "image/png": "[encoded data removed]",
      "text/plain": [
       "<Figure size 432x288 with 1 Axes>"
      ]
     },
     "metadata": {
      "needs_background": "light"
     },
     "output_type": "display_data"
    }
   ],
   "source": [
    "fig, ax = plt.subplots()\n",
    "ax.set(title='Plot', xlabel='Population', ylabel='Revenue')\n",
    "sns.scatterplot(x=X[:,1], y=y[:,0], ax=ax, label='Training data', marker='x', s=50)\n",
    "linear_regression = np.dot(X, final_theta)\n",
    "sns.lineplot(x=X[:,1], y=linear_regression[:,0], ax=ax, label='Linear Regresssion', color='red')"
   ]
  },
  {
   "cell_type": "code",
   "execution_count": 163,
   "id": "b94c5df6",
   "metadata": {},
   "outputs": [
    {
     "name": "stdout",
     "output_type": "stream",
     "text": [
      "For population = 35,000, we predict a profit of [0.45197679]\n"
     ]
    }
   ],
   "source": [
    "predict1 = np.dot(np.array([1, 3.5]), final_theta)\n",
    "print('For population = 35,000, we predict a profit of', predict1)"
   ]
  },
  {
   "cell_type": "code",
   "execution_count": 164,
   "id": "05f96fba",
   "metadata": {},
   "outputs": [
    {
     "name": "stdout",
     "output_type": "stream",
     "text": [
      "For population = 70,000, we predict a profit of [4.53424501]\n"
     ]
    }
   ],
   "source": [
    "predict2 = np.dot(np.array([1, 7]), final_theta)\n",
    "print('For population = 70,000, we predict a profit of', predict2)"
   ]
  },
  {
   "cell_type": "code",
   "execution_count": null,
   "id": "318894ca",
   "metadata": {},
   "outputs": [],
   "source": []
  }
 ],
 "metadata": {
  "kernelspec": {
   "display_name": "Python 3 (ipykernel)",
   "language": "python",
   "name": "python3"
  },
  "language_info": {
   "codemirror_mode": {
    "name": "ipython",
    "version": 3
   },
   "file_extension": ".py",
   "mimetype": "text/x-python",
   "name": "python",
   "nbconvert_exporter": "python",
   "pygments_lexer": "ipython3",
   "version": "3.8.10"
  }
 },
 "nbformat": 4,
 "nbformat_minor": 5
}
